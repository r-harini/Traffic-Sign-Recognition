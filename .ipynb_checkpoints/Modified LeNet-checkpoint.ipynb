{
 "cells": [
  {
   "cell_type": "code",
   "execution_count": 1,
   "metadata": {},
   "outputs": [],
   "source": [
    "import numpy as np \n",
    "import pandas as pd \n",
    "import matplotlib.pyplot as plt\n",
    "import cv2\n",
    "import tensorflow as tf\n",
    "from PIL import Image\n",
    "import os\n",
    "from sklearn.model_selection import train_test_split\n"
   ]
  },
  {
   "cell_type": "code",
   "execution_count": 2,
   "metadata": {},
   "outputs": [],
   "source": [
    "from tensorflow.keras.utils import to_categorical\n",
    "from tensorflow.keras.models import Sequential, load_model\n",
    "from tensorflow.keras.layers import Conv2D, MaxPool2D, Dense, Flatten, Dropout"
   ]
  },
  {
   "cell_type": "code",
   "execution_count": 3,
   "metadata": {},
   "outputs": [],
   "source": [
    "data = []\n",
    "labels = []\n",
    "classes = 43\n",
    "cur_path = os.getcwd()"
   ]
  },
  {
   "cell_type": "code",
   "execution_count": 4,
   "metadata": {},
   "outputs": [],
   "source": [
    "for i in range(classes):\n",
    "    path = os.path.join(cur_path,'train',str(i))\n",
    "    images = os.listdir(path)\n",
    "    for a in images:\n",
    "        try:\n",
    "            image = Image.open(path + '\\\\'+ a)\n",
    "            image = image.resize((30,30))\n",
    "            image = np.array(image)\n",
    "            #sim = Image.fromarray(image)\n",
    "            data.append(image)\n",
    "            labels.append(i)\n",
    "        except:\n",
    "            print(\"Error loading image\")"
   ]
  },
  {
   "cell_type": "code",
   "execution_count": 5,
   "metadata": {},
   "outputs": [
    {
     "name": "stdout",
     "output_type": "stream",
     "text": [
      "(39209, 30, 30, 3) (39209,)\n"
     ]
    }
   ],
   "source": [
    "data = np.array(data)\n",
    "labels = np.array(labels)\n",
    "print(data.shape, labels.shape)"
   ]
  },
  {
   "cell_type": "code",
   "execution_count": 6,
   "metadata": {},
   "outputs": [
    {
     "name": "stdout",
     "output_type": "stream",
     "text": [
      "(31367, 30, 30, 3) (7842, 30, 30, 3) (31367,) (7842,)\n"
     ]
    }
   ],
   "source": [
    "#Splitting training and testing dataset\n",
    "X_train, X_test, y_train, y_test = train_test_split(data, labels, test_size=0.2, random_state=42)\n",
    "print(X_train.shape, X_test.shape, y_train.shape, y_test.shape)"
   ]
  },
  {
   "cell_type": "code",
   "execution_count": 7,
   "metadata": {},
   "outputs": [],
   "source": [
    "#Converting the labels into one hot encoding\n",
    "y_train = to_categorical(y_train, 43)\n",
    "y_test = to_categorical(y_test, 43)"
   ]
  },
  {
   "cell_type": "code",
   "execution_count": 9,
   "metadata": {},
   "outputs": [],
   "source": [
    "#Building the model\n",
    "model = Sequential()\n",
    "model.add(Conv2D(filters=32, kernel_size=(5,5), activation='relu', input_shape=X_train.shape[1:]))\n",
    "model.add(Conv2D(filters=32, kernel_size=(5,5), activation='relu'))\n",
    "model.add(MaxPool2D(pool_size=(2, 2)))\n",
    "model.add(Dropout(rate=0.25))\n",
    "model.add(Conv2D(filters=64, kernel_size=(3, 3), activation='relu'))\n",
    "model.add(Conv2D(filters=64, kernel_size=(3, 3), activation='relu'))\n",
    "model.add(MaxPool2D(pool_size=(2, 2)))\n",
    "model.add(Dropout(rate=0.25))\n",
    "model.add(Flatten())\n",
    "model.add(Dense(256, activation='relu'))\n",
    "model.add(Dropout(rate=0.5))\n",
    "model.add(Dense(43, activation='softmax'))\n",
    "\n",
    "#Compilation of the model\n",
    "model.compile(loss='categorical_crossentropy', optimizer='adam', metrics=['accuracy'])\n"
   ]
  },
  {
   "cell_type": "code",
   "execution_count": 10,
   "metadata": {},
   "outputs": [
    {
     "name": "stdout",
     "output_type": "stream",
     "text": [
      "Epoch 1/15\n",
      "981/981 [==============================] - 82s 83ms/step - loss: 2.3017 - accuracy: 0.4030 - val_loss: 0.7785 - val_accuracy: 0.8004\n",
      "Epoch 2/15\n",
      "981/981 [==============================] - 69s 70ms/step - loss: 0.9035 - accuracy: 0.7341 - val_loss: 0.3814 - val_accuracy: 0.8891\n",
      "Epoch 3/15\n",
      "981/981 [==============================] - 83s 84ms/step - loss: 0.5465 - accuracy: 0.8384 - val_loss: 0.1952 - val_accuracy: 0.9443\n",
      "Epoch 4/15\n",
      "981/981 [==============================] - 86s 88ms/step - loss: 0.3676 - accuracy: 0.8938 - val_loss: 0.1079 - val_accuracy: 0.9717\n",
      "Epoch 5/15\n",
      "981/981 [==============================] - 65s 67ms/step - loss: 0.3032 - accuracy: 0.9139 - val_loss: 0.0921 - val_accuracy: 0.9746\n",
      "Epoch 6/15\n",
      "981/981 [==============================] - 67s 69ms/step - loss: 0.2744 - accuracy: 0.9234 - val_loss: 0.0787 - val_accuracy: 0.9782\n",
      "Epoch 7/15\n",
      "981/981 [==============================] - 66s 67ms/step - loss: 0.2441 - accuracy: 0.9333 - val_loss: 0.0605 - val_accuracy: 0.9833\n",
      "Epoch 8/15\n",
      "981/981 [==============================] - 68s 70ms/step - loss: 0.2528 - accuracy: 0.9311 - val_loss: 0.0523 - val_accuracy: 0.9847\n",
      "Epoch 9/15\n",
      "981/981 [==============================] - 65s 66ms/step - loss: 0.2264 - accuracy: 0.9390 - val_loss: 0.0625 - val_accuracy: 0.9837\n",
      "Epoch 10/15\n",
      "981/981 [==============================] - 68s 69ms/step - loss: 0.2430 - accuracy: 0.9358 - val_loss: 0.0586 - val_accuracy: 0.9838\n",
      "Epoch 11/15\n",
      "981/981 [==============================] - 87s 88ms/step - loss: 0.2052 - accuracy: 0.9440 - val_loss: 0.0737 - val_accuracy: 0.9810\n",
      "Epoch 12/15\n",
      "981/981 [==============================] - 73s 75ms/step - loss: 0.2038 - accuracy: 0.9455 - val_loss: 0.0509 - val_accuracy: 0.9858\n",
      "Epoch 13/15\n",
      "981/981 [==============================] - 67s 68ms/step - loss: 0.2065 - accuracy: 0.9446 - val_loss: 0.0938 - val_accuracy: 0.9727\n",
      "Epoch 14/15\n",
      "981/981 [==============================] - 66s 67ms/step - loss: 0.2123 - accuracy: 0.9450 - val_loss: 0.0576 - val_accuracy: 0.9843\n",
      "Epoch 15/15\n",
      "981/981 [==============================] - 63s 64ms/step - loss: 0.2106 - accuracy: 0.9469 - val_loss: 0.0451 - val_accuracy: 0.9879\n"
     ]
    }
   ],
   "source": [
    "epochs = 15\n",
    "history = model.fit(X_train, y_train, batch_size=32, epochs=epochs, validation_data=(X_test, y_test))\n",
    "model.save(\"my_model.h5\")"
   ]
  },
  {
   "cell_type": "code",
   "execution_count": 14,
   "metadata": {},
   "outputs": [
    {
     "name": "stdout",
     "output_type": "stream",
     "text": [
      "0.9611243072050673\n"
     ]
    }
   ],
   "source": [
    "#testing accuracy on test dataset\n",
    "from sklearn.metrics import accuracy_score\n",
    "y_test = pd.read_csv('Test.csv')\n",
    "labels = y_test[\"ClassId\"].values\n",
    "imgs = y_test[\"Path\"].values\n",
    "data=[]\n",
    "for img in imgs:\n",
    "    image = Image.open(img)\n",
    "    image = image.resize((30,30))\n",
    "    data.append(np.array(image))\n",
    "X_test=np.array(data)\n",
    "pred = model.predict_classes(X_test)\n",
    "#Accuracy with the test data\n",
    "from sklearn.metrics import accuracy_score\n",
    "print(accuracy_score(labels, pred))\n",
    "model.save('traffic_classifier.h5')"
   ]
  },
  {
   "cell_type": "code",
   "execution_count": 15,
   "metadata": {},
   "outputs": [
    {
     "data": {
      "text/plain": [
       "array([16,  1, 38, ...,  6,  7, 10], dtype=int64)"
      ]
     },
     "execution_count": 15,
     "metadata": {},
     "output_type": "execute_result"
    }
   ],
   "source": [
    "pred"
   ]
  },
  {
   "cell_type": "code",
   "execution_count": null,
   "metadata": {},
   "outputs": [],
   "source": []
  }
 ],
 "metadata": {
  "kernelspec": {
   "display_name": "Python 3",
   "language": "python",
   "name": "python3"
  },
  "language_info": {
   "codemirror_mode": {
    "name": "ipython",
    "version": 3
   },
   "file_extension": ".py",
   "mimetype": "text/x-python",
   "name": "python",
   "nbconvert_exporter": "python",
   "pygments_lexer": "ipython3",
   "version": "3.7.3"
  }
 },
 "nbformat": 4,
 "nbformat_minor": 4
}
